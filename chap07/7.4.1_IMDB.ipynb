{
  "cells": [
    {
      "cell_type": "code",
      "execution_count": 72,
      "metadata": {
        "colab": {
          "base_uri": "https://localhost:8080/"
        },
        "id": "XCPWJN8cqAx-",
        "outputId": "6e5f3df6-213d-43be-a592-79b7267b9067"
      },
      "outputs": [],
      "source": [
        "# !pip install torchtext torchdata datasets spacy\n",
        "# !python -m spacy download en_core_web_md"
      ]
    },
    {
      "cell_type": "code",
      "execution_count": 73,
      "metadata": {
        "id": "x5sF6gJDIA_t"
      },
      "outputs": [],
      "source": [
        "# # Using TPU\n",
        "# !pip install torchtext torchdata cloud-tpu-client==0.10 torch==1.12.1 https://storage.googleapis.com/tpu-pytorch/wheels/colab/torch_xla-1.12-cp37-cp37m-linux_x86_64.whl\n",
        "# import torch_xla\n",
        "# import torch_xla.core.xla_model as xm\n",
        "# device = xm.xla_device()\n"
      ]
    },
    {
      "cell_type": "code",
      "execution_count": 74,
      "metadata": {
        "colab": {
          "base_uri": "https://localhost:8080/"
        },
        "id": "o-zj8XSYp7LV",
        "outputId": "0a008207-03de-4169-fce9-ca3e0fa86931"
      },
      "outputs": [
        {
          "name": "stdout",
          "output_type": "stream",
          "text": [
            "selected device: cuda:0\n"
          ]
        },
        {
          "name": "stderr",
          "output_type": "stream",
          "text": [
            "Reusing dataset imdb (C:\\Users\\sms20\\.cache\\huggingface\\datasets\\imdb\\plain_text\\1.0.0\\2fdd8b9bcadd6e7055e742a706876ba43f19faee861df134affd7a3f60fc38a1)\n"
          ]
        },
        {
          "data": {
            "application/vnd.jupyter.widget-view+json": {
              "model_id": "f927e820a10d4fa68da5561a4c011675",
              "version_major": 2,
              "version_minor": 0
            },
            "text/plain": [
              "  0%|          | 0/2 [00:00<?, ?it/s]"
            ]
          },
          "metadata": {},
          "output_type": "display_data"
        },
        {
          "data": {
            "application/vnd.jupyter.widget-view+json": {
              "model_id": "7f24fa6967d94862a0c83dcdf53f4f1c",
              "version_major": 2,
              "version_minor": 0
            },
            "text/plain": [
              "0ex [00:00, ?ex/s]"
            ]
          },
          "metadata": {},
          "output_type": "display_data"
        },
        {
          "data": {
            "application/vnd.jupyter.widget-view+json": {
              "model_id": "1a314d571a9148889676a02002d15062",
              "version_major": 2,
              "version_minor": 0
            },
            "text/plain": [
              "0ex [00:00, ?ex/s]"
            ]
          },
          "metadata": {},
          "output_type": "display_data"
        },
        {
          "name": "stdout",
          "output_type": "stream",
          "text": [
            "Dataset({\n",
            "    features: ['text', 'label', 'tokens'],\n",
            "    num_rows: 25000\n",
            "}) Dataset({\n",
            "    features: ['text', 'label', 'tokens'],\n",
            "    num_rows: 25000\n",
            "})\n",
            "[162, 9, 43, 491]\n"
          ]
        }
      ],
      "source": [
        "import functools\n",
        "import datasets\n",
        "\n",
        "import torch\n",
        "import torch.nn as nn\n",
        "import torch.nn.functional as F\n",
        "import torch.optim as optim\n",
        "import time\n",
        "from torchtext.data.utils import get_tokenizer\n",
        "from torchtext.vocab import build_vocab_from_iterator\n",
        "from torch.utils.data import DataLoader\n",
        "\n",
        "device = torch.device('cuda:0' if torch.cuda.is_available() else 'cpu')\n",
        "print(f'selected device: {device}')\n",
        "tokenizer = get_tokenizer('spacy', 'en_core_web_md')\n",
        "train_data, test_data = datasets.load_dataset('imdb', split=['train', 'test'])\n",
        "\n",
        "\n",
        "def tokenize_data(example, tokenizer):\n",
        "    tokens = {'tokens': tokenizer(example['text'])}\n",
        "    return tokens\n",
        "\n",
        "train_data = train_data.map(tokenize_data, fn_kwargs={'tokenizer': tokenizer})\n",
        "test_data = test_data.map(tokenize_data, fn_kwargs={'tokenizer': tokenizer})\n",
        "print(train_data, test_data)\n",
        "\n",
        "test_size = 0.2\n",
        "train_valid_data = train_data.train_test_split(test_size=test_size)\n",
        "train_data = train_valid_data['train']\n",
        "valid_data = train_valid_data['test']\n",
        "\n",
        "min_freq = 5\n",
        "special_tokens = ['<unk>', '<pad>']\n",
        "\n",
        "vocab = build_vocab_from_iterator(\n",
        "    train_data['tokens'], min_freq=min_freq, specials=special_tokens\n",
        ")\n",
        "\n",
        "print(vocab(['here', 'is', 'an', 'example']))\n",
        "\n",
        "unk_index = vocab['<unk>']\n",
        "pad_index = vocab['<pad>']\n",
        "vocab.set_default_index(unk_index)\n",
        "\n",
        "text_pipeline = lambda x: vocab(tokenize_data(x))\n",
        "label_pipeline = lambda x: 1 if x == 'pos' else 0\n"
      ]
    },
    {
      "cell_type": "code",
      "execution_count": 75,
      "metadata": {},
      "outputs": [
        {
          "data": {
            "application/vnd.jupyter.widget-view+json": {
              "model_id": "52087474267043e5810dc62b62b34667",
              "version_major": 2,
              "version_minor": 0
            },
            "text/plain": [
              "0ex [00:00, ?ex/s]"
            ]
          },
          "metadata": {},
          "output_type": "display_data"
        },
        {
          "data": {
            "application/vnd.jupyter.widget-view+json": {
              "model_id": "24caf5b2e6fe44779c4e712f580377d7",
              "version_major": 2,
              "version_minor": 0
            },
            "text/plain": [
              "0ex [00:00, ?ex/s]"
            ]
          },
          "metadata": {},
          "output_type": "display_data"
        },
        {
          "data": {
            "application/vnd.jupyter.widget-view+json": {
              "model_id": "011e7e50c0ed4932b2a4422ac9b2a5dd",
              "version_major": 2,
              "version_minor": 0
            },
            "text/plain": [
              "0ex [00:00, ?ex/s]"
            ]
          },
          "metadata": {},
          "output_type": "display_data"
        }
      ],
      "source": [
        "def numericalize_data(example, vocab):\n",
        "    ids = {'ids': [vocab[token] for token in example['tokens']]}\n",
        "    return ids\n",
        "train_data = train_data.map(numericalize_data, fn_kwargs={'vocab': vocab})\n",
        "valid_data = valid_data.map(numericalize_data, fn_kwargs={'vocab': vocab})\n",
        "test_data = test_data.map(numericalize_data, fn_kwargs={'vocab': vocab})\n",
        "\n",
        "train_data.set_format(type='torch', columns=['ids', 'label'])\n",
        "valid_data.set_format(type='torch', columns=['ids', 'label'])\n",
        "test_data.set_format(type='torch', columns=['ids', 'label'])"
      ]
    },
    {
      "cell_type": "code",
      "execution_count": 76,
      "metadata": {
        "id": "i0JtWY6Fug5m"
      },
      "outputs": [],
      "source": [
        "# Hyperparameters\n",
        "BATCH_SIZE = 128\n",
        "LR = 0.0005  # learning rate\n",
        "EPOCHS = 12  # epoch\n",
        "\n",
        "n_classes = 2\n",
        "vocab_size = len(vocab)\n",
        "embed_dim = 128  # 각 단어를 128차원으로 조정(임베딩 계층을 통과한 후 각 벡터의 크기)\n",
        "hidden_dim = 256\n",
        "n_layers = 2"
      ]
    },
    {
      "cell_type": "code",
      "execution_count": 77,
      "metadata": {},
      "outputs": [],
      "source": [
        "class BasicRNN(nn.Module):\n",
        "    def __init__(\n",
        "        self, n_layers, hidden_dim, n_vocab, embed_dim, n_classes, pad_index, dropout_p=0.2 \n",
        "    ):\n",
        "        super(BasicRNN, self).__init__()\n",
        "        self.n_layers = n_layers # ------ RNN 계층에 대한 개수\n",
        "        self.embed = nn.Embedding(n_vocab, embed_dim, pad_index) # ------ 워드 임베딩 적용\n",
        "        self.hidden_dim = hidden_dim\n",
        "        self.dropout = nn.Dropout(dropout_p) # ------ 드롭아웃 적용\n",
        "        self.rnn = nn.RNN(embed_dim, self.hidden_dim, num_layers=self.n_layers,  batch_first=True)\n",
        "        self.out = nn.Linear(self.hidden_dim, n_classes)\n",
        "\n",
        "    def forward(self, text):\n",
        "        x = self.embed(text)\n",
        "        h_0 = self._init_state(batch_size=x.size(0))\n",
        "        x, _ = self.rnn(x, h_0)\n",
        "        h_t = x[:, -1, :]\n",
        "        self.dropout(h_t)\n",
        "        return self.out(h_t)\n",
        "        #logit = torch.sigmoid(self.out(h_t))\n",
        "        #return logit\n",
        "    \n",
        "    def _init_state(self, batch_size=1):\n",
        "        weight = next(self.parameters()).data # ------ 모델의 파라미터 값을 가져와서 weight 변수에 저장\n",
        "        return weight.new(self.n_layers, batch_size, self.hidden_dim).zero_() # ------ 크기가 (계층의 개수, 배치 크기, 은닉층의 뉴런/유닛 개수)인 은닉 상태(텐서)를 생성하여 0으로 초기화한 후 반환\n",
        "    "
      ]
    },
    {
      "cell_type": "code",
      "execution_count": 78,
      "metadata": {
        "id": "99qfij4G-OZS"
      },
      "outputs": [],
      "source": [
        "model = BasicRNN(\n",
        "    n_layers=n_layers,\n",
        "    hidden_dim=hidden_dim,\n",
        "    n_vocab=vocab_size,\n",
        "    embed_dim=embed_dim,\n",
        "    n_classes=n_classes,\n",
        "    pad_index=pad_index,\n",
        "    dropout_p=0.5,\n",
        ").to(device)\n",
        "\n",
        "criterion = torch.nn.CrossEntropyLoss().to(device) # loss function\n",
        "optimizer = torch.optim.Adam(model.parameters(), lr=LR)\n",
        "scheduler = torch.optim.lr_scheduler.StepLR(optimizer, 5, gamma=0.1)\n",
        "\n",
        "def collate(batch, pad_index):\n",
        "    batch_ids = [b['ids'] for b in batch]\n",
        "    batch_ids = nn.utils.rnn.pad_sequence(batch_ids, padding_value=pad_index, batch_first=True)\n",
        "    batch_label = [b['label'] for b in batch]\n",
        "    batch_label = torch.stack(batch_label)\n",
        "    \n",
        "    batch = {'ids': batch_ids, 'label': batch_label}\n",
        "    \n",
        "    return batch\n",
        "\n",
        "collate = functools.partial(collate, pad_index=pad_index)\n",
        "\n",
        "# Refill Generators & Put in the DataLoader\n",
        "train_iter, valid_iter, test_iter = train_data, valid_data, test_data\n",
        "\n",
        "train_dataloader, valid_dataloader, test_dataloader = (\n",
        "    DataLoader(\n",
        "        train_iter, batch_size=BATCH_SIZE, shuffle=True, collate_fn=collate\n",
        "    ),\n",
        "    DataLoader(\n",
        "        valid_iter, batch_size=BATCH_SIZE, shuffle=True, collate_fn=collate\n",
        "    ),\n",
        "    DataLoader(\n",
        "        test_iter, batch_size=BATCH_SIZE, shuffle=True, collate_fn=collate\n",
        "    ),\n",
        ")"
      ]
    },
    {
      "cell_type": "code",
      "execution_count": 79,
      "metadata": {},
      "outputs": [],
      "source": [
        "epoch_:int = None\n",
        "\n",
        "def train(model, optimizer, dataloader):\n",
        "    model.train()\n",
        "    log_interval = 50\n",
        "    \n",
        "    for idx, batch in enumerate(dataloader):\n",
        "        x, y, = batch['ids'].to(device), batch['label'].to(device)\n",
        "        optimizer.zero_grad()\n",
        "        \n",
        "        logit = model(x)\n",
        "        loss = F.cross_entropy(logit, y)\n",
        "        loss.backward()\n",
        "        optimizer.step()\n",
        "        \n",
        "        if idx % log_interval == 0 and idx > 0:\n",
        "            print(\"Train Epoch: {} [{}/{} ({:.0f}%)]\\tLoss: {:.6f}\".format(epoch_, idx * len(x),len(train_iter.dataset),loss.item()))\n",
        "\n",
        "def evaluate(model, dataloader):\n",
        "    model.eval()\n",
        "    total_acc, total_count, total_loss = 0, 0, 0\n",
        "\n",
        "    with torch.no_grad():\n",
        "        for idx, batch in enumerate(dataloader):\n",
        "            label, text = batch['label'], batch['ids']\n",
        "            predicted_label = model(text)\n",
        "            loss = criterion(predicted_label, label)\n",
        "            total_acc += (predicted_label.argmax(1) == label).sum().item()\n",
        "            total_count += label.size(0)\n",
        "            total_loss += loss.item()\n",
        "\n",
        "    avg_loss = total_loss / len(dataloader.dataset)\n",
        "    avg_accuracy = total_acc / total_count\n",
        "    return avg_loss, avg_accuracy"
      ]
    },
    {
      "cell_type": "code",
      "execution_count": 80,
      "metadata": {},
      "outputs": [
        {
          "ename": "RuntimeError",
          "evalue": "CUDA out of memory. Tried to allocate 1.75 GiB (GPU 0; 2.00 GiB total capacity; 386.56 MiB already allocated; 0 bytes free; 1.49 GiB reserved in total by PyTorch) If reserved memory is >> allocated memory try setting max_split_size_mb to avoid fragmentation.  See documentation for Memory Management and PYTORCH_CUDA_ALLOC_CONF",
          "output_type": "error",
          "traceback": [
            "\u001b[1;31m---------------------------------------------------------------------------\u001b[0m",
            "\u001b[1;31mRuntimeError\u001b[0m                              Traceback (most recent call last)",
            "\u001b[1;32md:\\Timepercent\\AI Learning\\Deeplearning-Pytorch-Textbook\\chap07\\7.4.1_IMDB.ipynb 셀 9\u001b[0m in \u001b[0;36m<cell line: 1>\u001b[1;34m()\u001b[0m\n\u001b[0;32m      <a href='vscode-notebook-cell:/d%3A/Timepercent/AI%20Learning/Deeplearning-Pytorch-Textbook/chap07/7.4.1_IMDB.ipynb#X22sZmlsZQ%3D%3D?line=1'>2</a>\u001b[0m epoch_start_time \u001b[39m=\u001b[39m time\u001b[39m.\u001b[39mtime()\n\u001b[0;32m      <a href='vscode-notebook-cell:/d%3A/Timepercent/AI%20Learning/Deeplearning-Pytorch-Textbook/chap07/7.4.1_IMDB.ipynb#X22sZmlsZQ%3D%3D?line=2'>3</a>\u001b[0m epoch_ \u001b[39m=\u001b[39m epoch\n\u001b[1;32m----> <a href='vscode-notebook-cell:/d%3A/Timepercent/AI%20Learning/Deeplearning-Pytorch-Textbook/chap07/7.4.1_IMDB.ipynb#X22sZmlsZQ%3D%3D?line=3'>4</a>\u001b[0m train(model, optimizer, train_dataloader)\n\u001b[0;32m      <a href='vscode-notebook-cell:/d%3A/Timepercent/AI%20Learning/Deeplearning-Pytorch-Textbook/chap07/7.4.1_IMDB.ipynb#X22sZmlsZQ%3D%3D?line=4'>5</a>\u001b[0m loss_val, accu_val \u001b[39m=\u001b[39m evaluate(valid_dataloader)\n\u001b[0;32m      <a href='vscode-notebook-cell:/d%3A/Timepercent/AI%20Learning/Deeplearning-Pytorch-Textbook/chap07/7.4.1_IMDB.ipynb#X22sZmlsZQ%3D%3D?line=6'>7</a>\u001b[0m \u001b[39mif\u001b[39;00m total_accu \u001b[39mis\u001b[39;00m \u001b[39mnot\u001b[39;00m \u001b[39mNone\u001b[39;00m \u001b[39mand\u001b[39;00m total_accu \u001b[39m>\u001b[39m accu_val:\n",
            "\u001b[1;32md:\\Timepercent\\AI Learning\\Deeplearning-Pytorch-Textbook\\chap07\\7.4.1_IMDB.ipynb 셀 9\u001b[0m in \u001b[0;36mtrain\u001b[1;34m(model, optimizer, dataloader)\u001b[0m\n\u001b[0;32m      <a href='vscode-notebook-cell:/d%3A/Timepercent/AI%20Learning/Deeplearning-Pytorch-Textbook/chap07/7.4.1_IMDB.ipynb#X22sZmlsZQ%3D%3D?line=7'>8</a>\u001b[0m x, y, \u001b[39m=\u001b[39m batch[\u001b[39m'\u001b[39m\u001b[39mids\u001b[39m\u001b[39m'\u001b[39m]\u001b[39m.\u001b[39mto(device), batch[\u001b[39m'\u001b[39m\u001b[39mlabel\u001b[39m\u001b[39m'\u001b[39m]\u001b[39m.\u001b[39mto(device)\n\u001b[0;32m      <a href='vscode-notebook-cell:/d%3A/Timepercent/AI%20Learning/Deeplearning-Pytorch-Textbook/chap07/7.4.1_IMDB.ipynb#X22sZmlsZQ%3D%3D?line=8'>9</a>\u001b[0m optimizer\u001b[39m.\u001b[39mzero_grad()\n\u001b[1;32m---> <a href='vscode-notebook-cell:/d%3A/Timepercent/AI%20Learning/Deeplearning-Pytorch-Textbook/chap07/7.4.1_IMDB.ipynb#X22sZmlsZQ%3D%3D?line=10'>11</a>\u001b[0m logit \u001b[39m=\u001b[39m model(x)\n\u001b[0;32m     <a href='vscode-notebook-cell:/d%3A/Timepercent/AI%20Learning/Deeplearning-Pytorch-Textbook/chap07/7.4.1_IMDB.ipynb#X22sZmlsZQ%3D%3D?line=11'>12</a>\u001b[0m loss \u001b[39m=\u001b[39m F\u001b[39m.\u001b[39mcross_entropy(logit, y)\n\u001b[0;32m     <a href='vscode-notebook-cell:/d%3A/Timepercent/AI%20Learning/Deeplearning-Pytorch-Textbook/chap07/7.4.1_IMDB.ipynb#X22sZmlsZQ%3D%3D?line=12'>13</a>\u001b[0m loss\u001b[39m.\u001b[39mbackward()\n",
            "File \u001b[1;32mc:\\Users\\sms20\\mambaforge\\lib\\site-packages\\torch\\nn\\modules\\module.py:1130\u001b[0m, in \u001b[0;36mModule._call_impl\u001b[1;34m(self, *input, **kwargs)\u001b[0m\n\u001b[0;32m   1126\u001b[0m \u001b[39m# If we don't have any hooks, we want to skip the rest of the logic in\u001b[39;00m\n\u001b[0;32m   1127\u001b[0m \u001b[39m# this function, and just call forward.\u001b[39;00m\n\u001b[0;32m   1128\u001b[0m \u001b[39mif\u001b[39;00m \u001b[39mnot\u001b[39;00m (\u001b[39mself\u001b[39m\u001b[39m.\u001b[39m_backward_hooks \u001b[39mor\u001b[39;00m \u001b[39mself\u001b[39m\u001b[39m.\u001b[39m_forward_hooks \u001b[39mor\u001b[39;00m \u001b[39mself\u001b[39m\u001b[39m.\u001b[39m_forward_pre_hooks \u001b[39mor\u001b[39;00m _global_backward_hooks\n\u001b[0;32m   1129\u001b[0m         \u001b[39mor\u001b[39;00m _global_forward_hooks \u001b[39mor\u001b[39;00m _global_forward_pre_hooks):\n\u001b[1;32m-> 1130\u001b[0m     \u001b[39mreturn\u001b[39;00m forward_call(\u001b[39m*\u001b[39m\u001b[39minput\u001b[39m, \u001b[39m*\u001b[39m\u001b[39m*\u001b[39mkwargs)\n\u001b[0;32m   1131\u001b[0m \u001b[39m# Do not call functions when jit is used\u001b[39;00m\n\u001b[0;32m   1132\u001b[0m full_backward_hooks, non_full_backward_hooks \u001b[39m=\u001b[39m [], []\n",
            "\u001b[1;32md:\\Timepercent\\AI Learning\\Deeplearning-Pytorch-Textbook\\chap07\\7.4.1_IMDB.ipynb 셀 9\u001b[0m in \u001b[0;36mBasicRNN.forward\u001b[1;34m(self, text)\u001b[0m\n\u001b[0;32m     <a href='vscode-notebook-cell:/d%3A/Timepercent/AI%20Learning/Deeplearning-Pytorch-Textbook/chap07/7.4.1_IMDB.ipynb#X22sZmlsZQ%3D%3D?line=13'>14</a>\u001b[0m x \u001b[39m=\u001b[39m \u001b[39mself\u001b[39m\u001b[39m.\u001b[39membed(text)\n\u001b[0;32m     <a href='vscode-notebook-cell:/d%3A/Timepercent/AI%20Learning/Deeplearning-Pytorch-Textbook/chap07/7.4.1_IMDB.ipynb#X22sZmlsZQ%3D%3D?line=14'>15</a>\u001b[0m h_0 \u001b[39m=\u001b[39m \u001b[39mself\u001b[39m\u001b[39m.\u001b[39m_init_state(batch_size\u001b[39m=\u001b[39mx\u001b[39m.\u001b[39msize(\u001b[39m0\u001b[39m))\n\u001b[1;32m---> <a href='vscode-notebook-cell:/d%3A/Timepercent/AI%20Learning/Deeplearning-Pytorch-Textbook/chap07/7.4.1_IMDB.ipynb#X22sZmlsZQ%3D%3D?line=15'>16</a>\u001b[0m x, _ \u001b[39m=\u001b[39m \u001b[39mself\u001b[39;49m\u001b[39m.\u001b[39;49mrnn(x, h_0)\n\u001b[0;32m     <a href='vscode-notebook-cell:/d%3A/Timepercent/AI%20Learning/Deeplearning-Pytorch-Textbook/chap07/7.4.1_IMDB.ipynb#X22sZmlsZQ%3D%3D?line=16'>17</a>\u001b[0m h_t \u001b[39m=\u001b[39m x[:, \u001b[39m-\u001b[39m\u001b[39m1\u001b[39m, :]\n\u001b[0;32m     <a href='vscode-notebook-cell:/d%3A/Timepercent/AI%20Learning/Deeplearning-Pytorch-Textbook/chap07/7.4.1_IMDB.ipynb#X22sZmlsZQ%3D%3D?line=17'>18</a>\u001b[0m \u001b[39mself\u001b[39m\u001b[39m.\u001b[39mdropout(h_t)\n",
            "File \u001b[1;32mc:\\Users\\sms20\\mambaforge\\lib\\site-packages\\torch\\nn\\modules\\module.py:1130\u001b[0m, in \u001b[0;36mModule._call_impl\u001b[1;34m(self, *input, **kwargs)\u001b[0m\n\u001b[0;32m   1126\u001b[0m \u001b[39m# If we don't have any hooks, we want to skip the rest of the logic in\u001b[39;00m\n\u001b[0;32m   1127\u001b[0m \u001b[39m# this function, and just call forward.\u001b[39;00m\n\u001b[0;32m   1128\u001b[0m \u001b[39mif\u001b[39;00m \u001b[39mnot\u001b[39;00m (\u001b[39mself\u001b[39m\u001b[39m.\u001b[39m_backward_hooks \u001b[39mor\u001b[39;00m \u001b[39mself\u001b[39m\u001b[39m.\u001b[39m_forward_hooks \u001b[39mor\u001b[39;00m \u001b[39mself\u001b[39m\u001b[39m.\u001b[39m_forward_pre_hooks \u001b[39mor\u001b[39;00m _global_backward_hooks\n\u001b[0;32m   1129\u001b[0m         \u001b[39mor\u001b[39;00m _global_forward_hooks \u001b[39mor\u001b[39;00m _global_forward_pre_hooks):\n\u001b[1;32m-> 1130\u001b[0m     \u001b[39mreturn\u001b[39;00m forward_call(\u001b[39m*\u001b[39m\u001b[39minput\u001b[39m, \u001b[39m*\u001b[39m\u001b[39m*\u001b[39mkwargs)\n\u001b[0;32m   1131\u001b[0m \u001b[39m# Do not call functions when jit is used\u001b[39;00m\n\u001b[0;32m   1132\u001b[0m full_backward_hooks, non_full_backward_hooks \u001b[39m=\u001b[39m [], []\n",
            "File \u001b[1;32mc:\\Users\\sms20\\mambaforge\\lib\\site-packages\\torch\\nn\\modules\\rnn.py:471\u001b[0m, in \u001b[0;36mRNN.forward\u001b[1;34m(self, input, hx)\u001b[0m\n\u001b[0;32m    469\u001b[0m \u001b[39mif\u001b[39;00m batch_sizes \u001b[39mis\u001b[39;00m \u001b[39mNone\u001b[39;00m:\n\u001b[0;32m    470\u001b[0m     \u001b[39mif\u001b[39;00m \u001b[39mself\u001b[39m\u001b[39m.\u001b[39mmode \u001b[39m==\u001b[39m \u001b[39m'\u001b[39m\u001b[39mRNN_TANH\u001b[39m\u001b[39m'\u001b[39m:\n\u001b[1;32m--> 471\u001b[0m         result \u001b[39m=\u001b[39m _VF\u001b[39m.\u001b[39;49mrnn_tanh(\u001b[39minput\u001b[39;49m, hx, \u001b[39mself\u001b[39;49m\u001b[39m.\u001b[39;49m_flat_weights, \u001b[39mself\u001b[39;49m\u001b[39m.\u001b[39;49mbias, \u001b[39mself\u001b[39;49m\u001b[39m.\u001b[39;49mnum_layers,\n\u001b[0;32m    472\u001b[0m                               \u001b[39mself\u001b[39;49m\u001b[39m.\u001b[39;49mdropout, \u001b[39mself\u001b[39;49m\u001b[39m.\u001b[39;49mtraining, \u001b[39mself\u001b[39;49m\u001b[39m.\u001b[39;49mbidirectional,\n\u001b[0;32m    473\u001b[0m                               \u001b[39mself\u001b[39;49m\u001b[39m.\u001b[39;49mbatch_first)\n\u001b[0;32m    474\u001b[0m     \u001b[39melse\u001b[39;00m:\n\u001b[0;32m    475\u001b[0m         result \u001b[39m=\u001b[39m _VF\u001b[39m.\u001b[39mrnn_relu(\u001b[39minput\u001b[39m, hx, \u001b[39mself\u001b[39m\u001b[39m.\u001b[39m_flat_weights, \u001b[39mself\u001b[39m\u001b[39m.\u001b[39mbias, \u001b[39mself\u001b[39m\u001b[39m.\u001b[39mnum_layers,\n\u001b[0;32m    476\u001b[0m                               \u001b[39mself\u001b[39m\u001b[39m.\u001b[39mdropout, \u001b[39mself\u001b[39m\u001b[39m.\u001b[39mtraining, \u001b[39mself\u001b[39m\u001b[39m.\u001b[39mbidirectional,\n\u001b[0;32m    477\u001b[0m                               \u001b[39mself\u001b[39m\u001b[39m.\u001b[39mbatch_first)\n",
            "\u001b[1;31mRuntimeError\u001b[0m: CUDA out of memory. Tried to allocate 1.75 GiB (GPU 0; 2.00 GiB total capacity; 386.56 MiB already allocated; 0 bytes free; 1.49 GiB reserved in total by PyTorch) If reserved memory is >> allocated memory try setting max_split_size_mb to avoid fragmentation.  See documentation for Memory Management and PYTORCH_CUDA_ALLOC_CONF"
          ]
        }
      ],
      "source": [
        "for epoch in range(1, EPOCHS + 1):\n",
        "    epoch_start_time = time.time()\n",
        "    epoch_ = epoch\n",
        "    train(model, optimizer, train_dataloader)\n",
        "    loss_val, accu_val = evaluate(valid_dataloader)\n",
        "    \n",
        "    if total_accu is not None and total_accu > accu_val:\n",
        "        scheduler.step()\n",
        "    else:\n",
        "        total_accu = accu_val\n",
        "\n",
        "    print(\n",
        "        '| End of epoch {:3d} | Time: {:5.2f}s | '\n",
        "        'Valid accuracy {:8.3f} Validation Loss {:8.3f}'.format(epoch, time.time() - epoch_start_time, accu_val, loss_val)\n",
        "    )\n",
        "    print('-' * 59)"
      ]
    },
    {
      "cell_type": "code",
      "execution_count": null,
      "metadata": {},
      "outputs": [],
      "source": [
        "print('Checking the results of test dataset.')\n",
        "accu_test = evaluate(test_dataloader)\n",
        "print('test accuracy {:8.3f}'.format(accu_test))\n"
      ]
    },
    {
      "cell_type": "code",
      "execution_count": null,
      "metadata": {
        "id": "nhgxJsINXl17"
      },
      "outputs": [
        {
          "ename": "RuntimeError",
          "evalue": "For unbatched 2-D input, hx should also be 2-D but got 3-D tensor",
          "output_type": "error",
          "traceback": [
            "\u001b[1;31m---------------------------------------------------------------------------\u001b[0m",
            "\u001b[1;31mRuntimeError\u001b[0m                              Traceback (most recent call last)",
            "\u001b[1;32md:\\Timepercent\\AI Learning\\Deeplearning-Pytorch-Textbook\\chap07\\7.4.1_IMDB.ipynb 셀 9\u001b[0m in \u001b[0;36m<cell line: 24>\u001b[1;34m()\u001b[0m\n\u001b[0;32m     <a href='vscode-notebook-cell:/d%3A/Timepercent/AI%20Learning/Deeplearning-Pytorch-Textbook/chap07/7.4.1_IMDB.ipynb#X14sZmlsZQ%3D%3D?line=9'>10</a>\u001b[0m ex_text_str \u001b[39m=\u001b[39m \u001b[39m\"\u001b[39m\u001b[39mMEMPHIS, Tenn. – Four days ago, Jon Rahm was \u001b[39m\u001b[39m\\\u001b[39;00m\n\u001b[0;32m     <a href='vscode-notebook-cell:/d%3A/Timepercent/AI%20Learning/Deeplearning-Pytorch-Textbook/chap07/7.4.1_IMDB.ipynb#X14sZmlsZQ%3D%3D?line=10'>11</a>\u001b[0m \u001b[39m    enduring the season’s worst weather conditions on Sunday at The \u001b[39m\u001b[39m\\\u001b[39;00m\n\u001b[0;32m     <a href='vscode-notebook-cell:/d%3A/Timepercent/AI%20Learning/Deeplearning-Pytorch-Textbook/chap07/7.4.1_IMDB.ipynb#X14sZmlsZQ%3D%3D?line=11'>12</a>\u001b[0m \u001b[39m    Open on his way to a closing 75 at Royal Portrush, which \u001b[39m\u001b[39m\\\u001b[39;00m\n\u001b[1;32m   (...)\u001b[0m\n\u001b[0;32m     <a href='vscode-notebook-cell:/d%3A/Timepercent/AI%20Learning/Deeplearning-Pytorch-Textbook/chap07/7.4.1_IMDB.ipynb#X14sZmlsZQ%3D%3D?line=18'>19</a>\u001b[0m \u001b[39m    was even more impressive considering he’d never played the \u001b[39m\u001b[39m\\\u001b[39;00m\n\u001b[0;32m     <a href='vscode-notebook-cell:/d%3A/Timepercent/AI%20Learning/Deeplearning-Pytorch-Textbook/chap07/7.4.1_IMDB.ipynb#X14sZmlsZQ%3D%3D?line=19'>20</a>\u001b[0m \u001b[39m    front nine at TPC Southwind.\u001b[39m\u001b[39m\"\u001b[39m\n\u001b[0;32m     <a href='vscode-notebook-cell:/d%3A/Timepercent/AI%20Learning/Deeplearning-Pytorch-Textbook/chap07/7.4.1_IMDB.ipynb#X14sZmlsZQ%3D%3D?line=21'>22</a>\u001b[0m model \u001b[39m=\u001b[39m model\u001b[39m.\u001b[39mto(\u001b[39m'\u001b[39m\u001b[39mcpu\u001b[39m\u001b[39m'\u001b[39m)\n\u001b[1;32m---> <a href='vscode-notebook-cell:/d%3A/Timepercent/AI%20Learning/Deeplearning-Pytorch-Textbook/chap07/7.4.1_IMDB.ipynb#X14sZmlsZQ%3D%3D?line=23'>24</a>\u001b[0m \u001b[39mprint\u001b[39m(\u001b[39mf\u001b[39m\u001b[39m\"\u001b[39m\u001b[39mThis is a \u001b[39m\u001b[39m{\u001b[39;00mpredict(ex_text_str, text_pipeline)\u001b[39m}\u001b[39;00m\u001b[39m mood\u001b[39m\u001b[39m\"\u001b[39m)\n\u001b[0;32m     <a href='vscode-notebook-cell:/d%3A/Timepercent/AI%20Learning/Deeplearning-Pytorch-Textbook/chap07/7.4.1_IMDB.ipynb#X14sZmlsZQ%3D%3D?line=25'>26</a>\u001b[0m en_text_str \u001b[39m=\u001b[39m \u001b[39m\"\"\"\u001b[39m\u001b[39mI\u001b[39m\u001b[39m'\u001b[39m\u001b[39mm struggling to finish this\u001b[39m\n\u001b[0;32m     <a href='vscode-notebook-cell:/d%3A/Timepercent/AI%20Learning/Deeplearning-Pytorch-Textbook/chap07/7.4.1_IMDB.ipynb#X14sZmlsZQ%3D%3D?line=26'>27</a>\u001b[0m \n\u001b[0;32m     <a href='vscode-notebook-cell:/d%3A/Timepercent/AI%20Learning/Deeplearning-Pytorch-Textbook/chap07/7.4.1_IMDB.ipynb#X14sZmlsZQ%3D%3D?line=27'>28</a>\u001b[0m \u001b[39mI\u001b[39m\u001b[39m'\u001b[39m\u001b[39mm 6 episodes in and this series feels kind of off. Having read the comics, the characters don\u001b[39m\u001b[39m'\u001b[39m\u001b[39mt seem like theyre the same personalities. It\u001b[39m\u001b[39m'\u001b[39m\u001b[39ms very slow, and the dialogue is terrible. The only thing keeping me watching at this point is a hope that I can see more of the endless (especially delirium).\u001b[39m\n\u001b[0;32m     <a href='vscode-notebook-cell:/d%3A/Timepercent/AI%20Learning/Deeplearning-Pytorch-Textbook/chap07/7.4.1_IMDB.ipynb#X14sZmlsZQ%3D%3D?line=28'>29</a>\u001b[0m \u001b[39mNetflix should stay away from making anymore adaptations (especially after the cowboy bebop flop). I really think Gaiman made a mistake choosing Netflix, and I hope to live long enough to see another company remake it.\u001b[39m\n\u001b[0;32m     <a href='vscode-notebook-cell:/d%3A/Timepercent/AI%20Learning/Deeplearning-Pytorch-Textbook/chap07/7.4.1_IMDB.ipynb#X14sZmlsZQ%3D%3D?line=29'>30</a>\u001b[0m \u001b[39mIll update my review if the show is any better once I finish.\u001b[39m\u001b[39m\"\"\"\u001b[39m\n\u001b[0;32m     <a href='vscode-notebook-cell:/d%3A/Timepercent/AI%20Learning/Deeplearning-Pytorch-Textbook/chap07/7.4.1_IMDB.ipynb#X14sZmlsZQ%3D%3D?line=31'>32</a>\u001b[0m \u001b[39mprint\u001b[39m(\u001b[39mf\u001b[39m\u001b[39m\"\u001b[39m\u001b[39mThis is a \u001b[39m\u001b[39m{\u001b[39;00mIMDB_label[predict(ex_text_str, text_pipeline)]\u001b[39m}\u001b[39;00m\u001b[39m mood\u001b[39m\u001b[39m\"\u001b[39m)\n",
            "\u001b[1;32md:\\Timepercent\\AI Learning\\Deeplearning-Pytorch-Textbook\\chap07\\7.4.1_IMDB.ipynb 셀 9\u001b[0m in \u001b[0;36mpredict\u001b[1;34m(text, text_pipeline)\u001b[0m\n\u001b[0;32m      <a href='vscode-notebook-cell:/d%3A/Timepercent/AI%20Learning/Deeplearning-Pytorch-Textbook/chap07/7.4.1_IMDB.ipynb#X14sZmlsZQ%3D%3D?line=3'>4</a>\u001b[0m \u001b[39mwith\u001b[39;00m torch\u001b[39m.\u001b[39mno_grad():\n\u001b[0;32m      <a href='vscode-notebook-cell:/d%3A/Timepercent/AI%20Learning/Deeplearning-Pytorch-Textbook/chap07/7.4.1_IMDB.ipynb#X14sZmlsZQ%3D%3D?line=4'>5</a>\u001b[0m     text \u001b[39m=\u001b[39m torch\u001b[39m.\u001b[39mtensor(text_pipeline(text))\n\u001b[1;32m----> <a href='vscode-notebook-cell:/d%3A/Timepercent/AI%20Learning/Deeplearning-Pytorch-Textbook/chap07/7.4.1_IMDB.ipynb#X14sZmlsZQ%3D%3D?line=5'>6</a>\u001b[0m     output \u001b[39m=\u001b[39m model(text\u001b[39m.\u001b[39;49mflatten())\n\u001b[0;32m      <a href='vscode-notebook-cell:/d%3A/Timepercent/AI%20Learning/Deeplearning-Pytorch-Textbook/chap07/7.4.1_IMDB.ipynb#X14sZmlsZQ%3D%3D?line=6'>7</a>\u001b[0m     \u001b[39mreturn\u001b[39;00m output\u001b[39m.\u001b[39margmax(\u001b[39m1\u001b[39m)\u001b[39m.\u001b[39mitem()\n",
            "File \u001b[1;32mc:\\Users\\sms20\\mambaforge\\lib\\site-packages\\torch\\nn\\modules\\module.py:1130\u001b[0m, in \u001b[0;36mModule._call_impl\u001b[1;34m(self, *input, **kwargs)\u001b[0m\n\u001b[0;32m   1126\u001b[0m \u001b[39m# If we don't have any hooks, we want to skip the rest of the logic in\u001b[39;00m\n\u001b[0;32m   1127\u001b[0m \u001b[39m# this function, and just call forward.\u001b[39;00m\n\u001b[0;32m   1128\u001b[0m \u001b[39mif\u001b[39;00m \u001b[39mnot\u001b[39;00m (\u001b[39mself\u001b[39m\u001b[39m.\u001b[39m_backward_hooks \u001b[39mor\u001b[39;00m \u001b[39mself\u001b[39m\u001b[39m.\u001b[39m_forward_hooks \u001b[39mor\u001b[39;00m \u001b[39mself\u001b[39m\u001b[39m.\u001b[39m_forward_pre_hooks \u001b[39mor\u001b[39;00m _global_backward_hooks\n\u001b[0;32m   1129\u001b[0m         \u001b[39mor\u001b[39;00m _global_forward_hooks \u001b[39mor\u001b[39;00m _global_forward_pre_hooks):\n\u001b[1;32m-> 1130\u001b[0m     \u001b[39mreturn\u001b[39;00m forward_call(\u001b[39m*\u001b[39m\u001b[39minput\u001b[39m, \u001b[39m*\u001b[39m\u001b[39m*\u001b[39mkwargs)\n\u001b[0;32m   1131\u001b[0m \u001b[39m# Do not call functions when jit is used\u001b[39;00m\n\u001b[0;32m   1132\u001b[0m full_backward_hooks, non_full_backward_hooks \u001b[39m=\u001b[39m [], []\n",
            "\u001b[1;32md:\\Timepercent\\AI Learning\\Deeplearning-Pytorch-Textbook\\chap07\\7.4.1_IMDB.ipynb 셀 9\u001b[0m in \u001b[0;36mBasicRNN.forward\u001b[1;34m(self, x)\u001b[0m\n\u001b[0;32m     <a href='vscode-notebook-cell:/d%3A/Timepercent/AI%20Learning/Deeplearning-Pytorch-Textbook/chap07/7.4.1_IMDB.ipynb#X14sZmlsZQ%3D%3D?line=11'>12</a>\u001b[0m x \u001b[39m=\u001b[39m \u001b[39mself\u001b[39m\u001b[39m.\u001b[39membed(x)\n\u001b[0;32m     <a href='vscode-notebook-cell:/d%3A/Timepercent/AI%20Learning/Deeplearning-Pytorch-Textbook/chap07/7.4.1_IMDB.ipynb#X14sZmlsZQ%3D%3D?line=12'>13</a>\u001b[0m h_0 \u001b[39m=\u001b[39m \u001b[39mself\u001b[39m\u001b[39m.\u001b[39m_init_state(batch_size\u001b[39m=\u001b[39mx\u001b[39m.\u001b[39msize(\u001b[39m0\u001b[39m))\n\u001b[1;32m---> <a href='vscode-notebook-cell:/d%3A/Timepercent/AI%20Learning/Deeplearning-Pytorch-Textbook/chap07/7.4.1_IMDB.ipynb#X14sZmlsZQ%3D%3D?line=13'>14</a>\u001b[0m x, _ \u001b[39m=\u001b[39m \u001b[39mself\u001b[39;49m\u001b[39m.\u001b[39;49mrnn(x, h_0)\n\u001b[0;32m     <a href='vscode-notebook-cell:/d%3A/Timepercent/AI%20Learning/Deeplearning-Pytorch-Textbook/chap07/7.4.1_IMDB.ipynb#X14sZmlsZQ%3D%3D?line=14'>15</a>\u001b[0m h_t \u001b[39m=\u001b[39m x[:, \u001b[39m-\u001b[39m\u001b[39m1\u001b[39m, :]\n\u001b[0;32m     <a href='vscode-notebook-cell:/d%3A/Timepercent/AI%20Learning/Deeplearning-Pytorch-Textbook/chap07/7.4.1_IMDB.ipynb#X14sZmlsZQ%3D%3D?line=15'>16</a>\u001b[0m \u001b[39mself\u001b[39m\u001b[39m.\u001b[39mdropout(h_t)\n",
            "File \u001b[1;32mc:\\Users\\sms20\\mambaforge\\lib\\site-packages\\torch\\nn\\modules\\module.py:1130\u001b[0m, in \u001b[0;36mModule._call_impl\u001b[1;34m(self, *input, **kwargs)\u001b[0m\n\u001b[0;32m   1126\u001b[0m \u001b[39m# If we don't have any hooks, we want to skip the rest of the logic in\u001b[39;00m\n\u001b[0;32m   1127\u001b[0m \u001b[39m# this function, and just call forward.\u001b[39;00m\n\u001b[0;32m   1128\u001b[0m \u001b[39mif\u001b[39;00m \u001b[39mnot\u001b[39;00m (\u001b[39mself\u001b[39m\u001b[39m.\u001b[39m_backward_hooks \u001b[39mor\u001b[39;00m \u001b[39mself\u001b[39m\u001b[39m.\u001b[39m_forward_hooks \u001b[39mor\u001b[39;00m \u001b[39mself\u001b[39m\u001b[39m.\u001b[39m_forward_pre_hooks \u001b[39mor\u001b[39;00m _global_backward_hooks\n\u001b[0;32m   1129\u001b[0m         \u001b[39mor\u001b[39;00m _global_forward_hooks \u001b[39mor\u001b[39;00m _global_forward_pre_hooks):\n\u001b[1;32m-> 1130\u001b[0m     \u001b[39mreturn\u001b[39;00m forward_call(\u001b[39m*\u001b[39m\u001b[39minput\u001b[39m, \u001b[39m*\u001b[39m\u001b[39m*\u001b[39mkwargs)\n\u001b[0;32m   1131\u001b[0m \u001b[39m# Do not call functions when jit is used\u001b[39;00m\n\u001b[0;32m   1132\u001b[0m full_backward_hooks, non_full_backward_hooks \u001b[39m=\u001b[39m [], []\n",
            "File \u001b[1;32mc:\\Users\\sms20\\mambaforge\\lib\\site-packages\\torch\\nn\\modules\\rnn.py:445\u001b[0m, in \u001b[0;36mRNN.forward\u001b[1;34m(self, input, hx)\u001b[0m\n\u001b[0;32m    443\u001b[0m     \u001b[39mif\u001b[39;00m hx \u001b[39mis\u001b[39;00m \u001b[39mnot\u001b[39;00m \u001b[39mNone\u001b[39;00m:\n\u001b[0;32m    444\u001b[0m         \u001b[39mif\u001b[39;00m hx\u001b[39m.\u001b[39mdim() \u001b[39m!=\u001b[39m \u001b[39m2\u001b[39m:\n\u001b[1;32m--> 445\u001b[0m             \u001b[39mraise\u001b[39;00m \u001b[39mRuntimeError\u001b[39;00m(\n\u001b[0;32m    446\u001b[0m                 \u001b[39mf\u001b[39m\u001b[39m\"\u001b[39m\u001b[39mFor unbatched 2-D input, hx should also be 2-D but got \u001b[39m\u001b[39m{\u001b[39;00mhx\u001b[39m.\u001b[39mdim()\u001b[39m}\u001b[39;00m\u001b[39m-D tensor\u001b[39m\u001b[39m\"\u001b[39m)\n\u001b[0;32m    447\u001b[0m         hx \u001b[39m=\u001b[39m hx\u001b[39m.\u001b[39munsqueeze(\u001b[39m1\u001b[39m)\n\u001b[0;32m    448\u001b[0m \u001b[39melse\u001b[39;00m:\n",
            "\u001b[1;31mRuntimeError\u001b[0m: For unbatched 2-D input, hx should also be 2-D but got 3-D tensor"
          ]
        }
      ],
      "source": [
        "IMDB_label = {0: \"neg\", 1: \"pos\"}\n",
        "\n",
        "def predict(text, text_pipeline):\n",
        "    with torch.no_grad():\n",
        "        text = torch.tensor(text_pipeline(text))\n",
        "        output = model(text.view)\n",
        "        return output.argmax(1).item()\n",
        "\n",
        "\n",
        "ex_text_str = \"MEMPHIS, Tenn. – Four days ago, Jon Rahm was \\\n",
        "    enduring the season’s worst weather conditions on Sunday at The \\\n",
        "    Open on his way to a closing 75 at Royal Portrush, which \\\n",
        "    considering the wind and the rain was a respectable showing. \\\n",
        "    Thursday’s first round at the WGC-FedEx St. Jude Invitational \\\n",
        "    was another story. With temperatures in the mid-80s and hardly any \\\n",
        "    wind, the Spaniard was 13 strokes better in a flawless round. \\\n",
        "    Thanks to his best putting performance on the PGA Tour, Rahm \\\n",
        "    finished with an 8-under 62 for a three-stroke lead, which \\\n",
        "    was even more impressive considering he’d never played the \\\n",
        "    front nine at TPC Southwind.\"\n",
        "\n",
        "model = model.to('cpu')\n",
        "\n",
        "print(f\"This is a {predict(ex_text_str, text_pipeline)} mood\")\n",
        "\n",
        "en_text_str = \"\"\"I'm struggling to finish this\n",
        "\n",
        "I'm 6 episodes in and this series feels kind of off. Having read the comics, the characters don't seem like theyre the same personalities. It's very slow, and the dialogue is terrible. The only thing keeping me watching at this point is a hope that I can see more of the endless (especially delirium).\n",
        "Netflix should stay away from making anymore adaptations (especially after the cowboy bebop flop). I really think Gaiman made a mistake choosing Netflix, and I hope to live long enough to see another company remake it.\n",
        "Ill update my review if the show is any better once I finish.\"\"\"\n",
        "\n",
        "print(f\"This is a {IMDB_label[predict(ex_text_str, text_pipeline)]} mood\")\n"
      ]
    },
    {
      "cell_type": "code",
      "execution_count": null,
      "metadata": {
        "id": "CROH9J1PaMkm"
      },
      "outputs": [],
      "source": []
    }
  ],
  "metadata": {
    "accelerator": "GPU",
    "colab": {
      "collapsed_sections": [],
      "machine_shape": "hm",
      "name": "Load_IMDB.ipynb",
      "provenance": []
    },
    "gpuClass": "standard",
    "kernelspec": {
      "display_name": "Python 3.9.13",
      "language": "python",
      "name": "python3"
    },
    "language_info": {
      "codemirror_mode": {
        "name": "ipython",
        "version": 3
      },
      "file_extension": ".py",
      "mimetype": "text/x-python",
      "name": "python",
      "nbconvert_exporter": "python",
      "pygments_lexer": "ipython3",
      "version": "3.9.13"
    },
    "vscode": {
      "interpreter": {
        "hash": "e45d430dd4495a451adf3f96c36ab39ddd21d42ca8131a0e0d50ee113b976380"
      }
    }
  },
  "nbformat": 4,
  "nbformat_minor": 0
}
